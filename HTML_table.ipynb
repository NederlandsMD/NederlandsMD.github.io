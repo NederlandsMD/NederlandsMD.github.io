{
 "cells": [
  {
   "cell_type": "code",
   "execution_count": 4,
   "metadata": {},
   "outputs": [],
   "source": [
    "import pandas as pd"
   ]
  },
  {
   "cell_type": "code",
   "execution_count": 5,
   "metadata": {},
   "outputs": [
    {
     "data": {
      "text/html": [
       "<div>\n",
       "<style scoped>\n",
       "    .dataframe tbody tr th:only-of-type {\n",
       "        vertical-align: middle;\n",
       "    }\n",
       "\n",
       "    .dataframe tbody tr th {\n",
       "        vertical-align: top;\n",
       "    }\n",
       "\n",
       "    .dataframe thead th {\n",
       "        text-align: right;\n",
       "    }\n",
       "</style>\n",
       "<table border=\"1\" class=\"dataframe\">\n",
       "  <thead>\n",
       "    <tr style=\"text-align: right;\">\n",
       "      <th></th>\n",
       "      <th>City</th>\n",
       "      <th>Clouds</th>\n",
       "      <th>Country</th>\n",
       "      <th>Date</th>\n",
       "      <th>Humidity</th>\n",
       "      <th>Lat</th>\n",
       "      <th>Lng</th>\n",
       "      <th>Max Temp</th>\n",
       "      <th>Wind Speed</th>\n",
       "    </tr>\n",
       "  </thead>\n",
       "  <tbody>\n",
       "    <tr>\n",
       "      <th>0</th>\n",
       "      <td>sosnovo-ozerskoye</td>\n",
       "      <td>92</td>\n",
       "      <td>ru</td>\n",
       "      <td>07-07-2018</td>\n",
       "      <td>100</td>\n",
       "      <td>52.53</td>\n",
       "      <td>111.54</td>\n",
       "      <td>51.73</td>\n",
       "      <td>10.67</td>\n",
       "    </tr>\n",
       "    <tr>\n",
       "      <th>1</th>\n",
       "      <td>atuona</td>\n",
       "      <td>64</td>\n",
       "      <td>pf</td>\n",
       "      <td>07-07-2018</td>\n",
       "      <td>100</td>\n",
       "      <td>-9.80</td>\n",
       "      <td>-139.03</td>\n",
       "      <td>79.18</td>\n",
       "      <td>17.49</td>\n",
       "    </tr>\n",
       "    <tr>\n",
       "      <th>2</th>\n",
       "      <td>hermanus</td>\n",
       "      <td>0</td>\n",
       "      <td>za</td>\n",
       "      <td>07-07-2018</td>\n",
       "      <td>77</td>\n",
       "      <td>-34.42</td>\n",
       "      <td>19.24</td>\n",
       "      <td>37.69</td>\n",
       "      <td>2.51</td>\n",
       "    </tr>\n",
       "    <tr>\n",
       "      <th>3</th>\n",
       "      <td>aksarka</td>\n",
       "      <td>92</td>\n",
       "      <td>ru</td>\n",
       "      <td>07-07-2018</td>\n",
       "      <td>81</td>\n",
       "      <td>66.56</td>\n",
       "      <td>67.80</td>\n",
       "      <td>59.47</td>\n",
       "      <td>11.45</td>\n",
       "    </tr>\n",
       "    <tr>\n",
       "      <th>4</th>\n",
       "      <td>koppang</td>\n",
       "      <td>8</td>\n",
       "      <td>no</td>\n",
       "      <td>07-07-2018</td>\n",
       "      <td>86</td>\n",
       "      <td>61.57</td>\n",
       "      <td>11.04</td>\n",
       "      <td>42.82</td>\n",
       "      <td>2.17</td>\n",
       "    </tr>\n",
       "  </tbody>\n",
       "</table>\n",
       "</div>"
      ],
      "text/plain": [
       "                City  Clouds Country        Date  Humidity    Lat     Lng  \\\n",
       "0  sosnovo-ozerskoye      92      ru  07-07-2018       100  52.53  111.54   \n",
       "1             atuona      64      pf  07-07-2018       100  -9.80 -139.03   \n",
       "2           hermanus       0      za  07-07-2018        77 -34.42   19.24   \n",
       "3            aksarka      92      ru  07-07-2018        81  66.56   67.80   \n",
       "4            koppang       8      no  07-07-2018        86  61.57   11.04   \n",
       "\n",
       "   Max Temp  Wind Speed  \n",
       "0     51.73       10.67  \n",
       "1     79.18       17.49  \n",
       "2     37.69        2.51  \n",
       "3     59.47       11.45  \n",
       "4     42.82        2.17  "
      ]
     },
     "execution_count": 5,
     "metadata": {},
     "output_type": "execute_result"
    }
   ],
   "source": [
    "df = pd.read_csv('cities.csv')\n",
    "df.head()"
   ]
  },
  {
   "cell_type": "code",
   "execution_count": 6,
   "metadata": {},
   "outputs": [],
   "source": [
    "df.to_html('table.html')"
   ]
  },
  {
   "cell_type": "code",
   "execution_count": null,
   "metadata": {},
   "outputs": [],
   "source": []
  }
 ],
 "metadata": {
  "kernelspec": {
   "display_name": "Python 3",
   "language": "python",
   "name": "python3"
  },
  "language_info": {
   "codemirror_mode": {
    "name": "ipython",
    "version": 3
   },
   "file_extension": ".py",
   "mimetype": "text/x-python",
   "name": "python",
   "nbconvert_exporter": "python",
   "pygments_lexer": "ipython3",
   "version": "3.6.4"
  }
 },
 "nbformat": 4,
 "nbformat_minor": 2
}
